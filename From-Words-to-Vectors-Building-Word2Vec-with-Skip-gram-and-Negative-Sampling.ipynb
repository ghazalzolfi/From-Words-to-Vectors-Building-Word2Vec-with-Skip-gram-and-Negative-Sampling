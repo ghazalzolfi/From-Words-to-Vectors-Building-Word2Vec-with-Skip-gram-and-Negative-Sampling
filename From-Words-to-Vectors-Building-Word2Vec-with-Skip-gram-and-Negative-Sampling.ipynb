{
  "cells": [
    {
      "cell_type": "markdown",
      "metadata": {
        "id": "0QOmoitc9qC4"
      },
      "source": [
        "<br>\n",
        "<font>\n",
        "<div dir=ltr align=center>\n",
        "<img src=\"https://cdn.freebiesupply.com/logos/large/2x/sharif-logo-png-transparent.png\" width=150 height=150> <br>\n",
        "<font color=0F5298 size=7>\n",
        "    Machine learning <br>\n",
        "<font color=2565AE size=5>\n",
        "    Computer Engineering Department <br>\n",
        "    Fall 2024<br>\n",
        "<font color=3C99D size=5>\n",
        "    Practical Assignment 5 - NLP - Skip-Gram <br>\n",
        "<font color=0CBCDF size=4>\n",
        "   &#x1F335; Amirhossein Akbari  &#x1F335;\n",
        "</div>\n",
        "\n",
        "____"
      ]
    },
    {
      "cell_type": "markdown",
      "metadata": {
        "id": "35Y0nSE3-wuW"
      },
      "source": [
        "<font color=9999FF size=4>\n",
        "&#x1F388; Full Name : Ghazal Zolfimoselo\n",
        "<br>\n",
        "<font color=9999FF size=4>\n",
        "&#x1F388; Student Number : 401104146"
      ]
    },
    {
      "cell_type": "markdown",
      "metadata": {
        "id": "i4spZpsq_Pxf"
      },
      "source": [
        "<font color=0080FF size=3>\n",
        "This notebook explores word embeddings, compact and dense vector representations of words that capture their textual meaning. This notebook focusing on implementing the Word2Vec algorithm using the Skip-gram architecture and negative sampling.\n",
        "</font>\n",
        "<br>\n",
        "\n",
        "**Note:**\n",
        "<br>\n",
        "<font color=66B2FF size=2>In this notebook, you are free to use any function or model from TensorFlow to assist with the implementation. However, PyTorch is not permitted for this exercise. This ensures consistency and alignment with the tools being focused on.</font>\n",
        "<br>\n",
        "<font color=red size=3>**Run All Cells Before Submission**</font>: <font color=FF99CC size=2>Before saving and submitting your notebook, please ensure you run all cells from start to finish. This practice guarantees that your notebook is self-consistent and can be evaluated correctly by others.</font>"
      ]
    },
    {
      "cell_type": "markdown",
      "metadata": {
        "id": "hZCaUs-3FsJk"
      },
      "source": [
        "<font color=#ffb578 size=3>\n",
        "you are free to modify, add, or remove any cells as you see fit to complete your tasks. Feel free to change any of the provided code or content to better suit your understanding and approach to the problems.\n",
        "\n",
        "- **Questions**: If you have any questions or require clarifications as you work through the notebook, please do not hesitate to ask. You can post your queries on Quera or reach out via Telegram.\n",
        "- **Feedback**: We encourage you to seek feedback and engage in discussions to enhance your learning experience and improve your solutions.\n",
        "</font>"
      ]
    },
    {
      "cell_type": "code",
      "execution_count": null,
      "metadata": {
        "colab": {
          "base_uri": "https://localhost:8080/"
        },
        "id": "hoV5vSSSbIp0",
        "outputId": "69e3570c-a8f7-4ef3-b7d5-287b09903ddb"
      },
      "outputs": [
        {
          "name": "stderr",
          "output_type": "stream",
          "text": [
            "[nltk_data] Downloading package stopwords to /root/nltk_data...\n",
            "[nltk_data]   Package stopwords is already up-to-date!\n"
          ]
        }
      ],
      "source": [
        "import io\n",
        "import math\n",
        "import gzip\n",
        "import nltk\n",
        "import time\n",
        "import random\n",
        "import numpy as np\n",
        "import tensorflow as tf\n",
        "import gensim.downloader as api\n",
        "import tensorflow_datasets as tfds\n",
        "import string\n",
        "from tqdm import tqdm\n",
        "nltk.download('stopwords')\n",
        "\n",
        "from collections import Counter\n",
        "from nltk.corpus import stopwords\n",
        "from tensorflow.keras.preprocessing.text import Tokenizer\n",
        "from tensorflow.keras.preprocessing.sequence import skipgrams\n",
        "from sklearn.model_selection import train_test_split"
      ]
    },
    {
      "cell_type": "markdown",
      "metadata": {
        "id": "3pwuegqx-JWf"
      },
      "source": [
        "### Downloading Dataset\n",
        "We're going to use text8 dataset. Text8 is first 100,000,000 bytes of plain text from Wikipedia. It's mainly used for testing purposes."
      ]
    },
    {
      "cell_type": "code",
      "execution_count": null,
      "metadata": {
        "id": "XG-FjuVEFLGW"
      },
      "outputs": [],
      "source": [
        "def load_data():\n",
        "  text8_zip_file_path = api.load('text8', return_path=True)\n",
        "  with gzip.open(text8_zip_file_path, 'rb') as file:\n",
        "    file_content = file.read()\n",
        "  wiki = file_content.decode()\n",
        "  return wiki\n",
        "\n",
        "wiki = load_data()"
      ]
    },
    {
      "cell_type": "markdown",
      "metadata": {
        "id": "QYBT_-Vy_af4"
      },
      "source": [
        "### Preprocessing data\n",
        "\n",
        "**Stopwords removal** - Begin by removing stopwords from the dataset, as they provide little to no value in learning word embeddings. Ensure your preprocessing pipeline filters out commonly used words such as \"the,\" \"and,\" or \"of\" that do not contribute to meaningful semantic relationships.\n",
        "\n",
        "---\n",
        "\n",
        "**Subsampling words** - In a large corpora, most frequent words can easily occur hundreds of millions of times and such words usually don't bring much information to the table.  It is of essential importance to cut down on their frequencies to mitigate the negative impact it adds. For example, co-occurrences of \"English\" and \"Spanish\" benefit much more than co-occurrences of \"English\" and \"the\" or \"Spanish\" and \"of\". To counter the imbalance between rare and frequent words Mikolov et. al came up with the following heuristic formula for determining probability to drop a particular word:\n",
        "\n",
        "![formula.png](data:image/png;base64,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)\n",
        "\n",
        "where t is threshold value (heuristically set to 1e-5) and f(w) is frequency of the word.\n",
        "\n",
        "Implement a subsampling mechanism to handle overly frequent words in the corpus. Use the heuristic formula provided by Mikolov et al. to calculate the probability of dropping a word based on its frequency. This step ensures the corpus maintains a balance between rare and frequent words, improving the quality of word co-occurrence relationships.\n",
        "\n",
        "---\n",
        "\n",
        "**Filtering words** - Filter out words that occur only once in the dataset, as they lack sufficient context to be represented effectively. Retain only those words that appear at least five times in the corpus to minimize noise and enhance the overall quality of the embeddings.\n"
      ]
    },
    {
      "cell_type": "code",
      "execution_count": null,
      "metadata": {
        "id": "wp50T2OqA-7L"
      },
      "outputs": [],
      "source": [
        "def preprocess_text(text):\n",
        "  # Step 1: Replace punctuation with tokens to standardize the text for processing\n",
        "  # Example: Replace '.', ',', and other punctuation marks with specific tokens\n",
        "  punc = string.punctuation\n",
        "  text = text.translate(str.maketrans({char: \" #symb\" for char in punc}))\n",
        "\n",
        "  # Step 2: Convert text to lowercase and remove unnecessary whitespaces\n",
        "  # Example: Apply text.lower() and text.strip()\n",
        "  text = text.lower().strip()\n",
        "\n",
        "  # Step 3: Remove stopwords from the text\n",
        "  # Example: Filter out common words such as 'the', 'and', 'of' using a predefined stopwords list\n",
        "  words = text.split()\n",
        "  stop_words = set(stopwords.words('english'))\n",
        "  words = [word for word in words if word not in stop_words]\n",
        "\n",
        "\n",
        "  # Step 4: Remove words with frequency less than 5\n",
        "  # Example: Count word frequencies and filter words appearing fewer than 5 times\n",
        "  word_counts = Counter(words)\n",
        "  words = [word for word in words if word_counts[word] >= 5]\n",
        "\n",
        "  # Step 5: Subsample words using a threshold value (e.g., 1e-5)\n",
        "  # Example: Implement the subsampling heuristic to reduce the frequency of overly common words\n",
        "  total_words = sum(word_counts.values())\n",
        "  threshold = 1e-5\n",
        "  word_probabilities = {word: 1 - math.sqrt(threshold / (count / total_words))\n",
        "  for word, count in word_counts.items()}\n",
        "  subsampled_words = [word for word in words if random.random() > word_probabilities.get(word, 0)]\n",
        "\n",
        "  # Return the processed words and word counts\n",
        "  return subsampled_words, word_probabilities"
      ]
    },
    {
      "cell_type": "markdown",
      "metadata": {
        "id": "4260B2ZFJ_EA"
      },
      "source": [
        "It's always a good idea to take a quick look at preprocessed sample before heading further - you might observe few things that if handled can enrich or correct your data. More like a validation step this."
      ]
    },
    {
      "cell_type": "code",
      "execution_count": null,
      "metadata": {
        "colab": {
          "base_uri": "https://localhost:8080/"
        },
        "id": "_oNvdt-v1dw0",
        "outputId": "b8f2d799-0bf2-4580-9c93-4e4174f1092f"
      },
      "outputs": [
        {
          "name": "stdout",
          "output_type": "stream",
          "text": [
            "['emile', 'emile', 'cgt', 'saw', 'libertarian', 'communism', 'cgt', 'anarcho', 'syndicalism', 'bolshevism', 'syndicalism', 'prior', 'remained', 'workers', 'iww', 'espoused', 'unionism', 'general', 'strike', 'usher', 'stateless', 'society', 'existed', 'support', 'zero', 'anarchist', 'rank', 'embodying', 'resistance', 'anglophone', 'syndicalists', 'cnt', 'propaganda', 'reads', 'let', 'lives', 'vote', 'decide', 'union', 'federations', 'nine', 'confederaci', 'nacional', 'del', 'trabajo', 'national', 'cnt', 'cnt', 'politics', 'cnt']\n"
          ]
        }
      ],
      "source": [
        "# Take a quick look at a slice of preprocessed words (e.g., index 1500 to 1550)\n",
        "subsampled_words, word_probabilities = preprocess_text(wiki)\n",
        "print(subsampled_words[500:550])"
      ]
    },
    {
      "cell_type": "markdown",
      "metadata": {
        "id": "lCkFtaa_KrTb"
      },
      "source": [
        "### Hyperparameters\n",
        "Setting a few hyperparamters required for gnerating batches and for deciding the size of word embeddings.\n",
        "\n"
      ]
    },
    {
      "cell_type": "code",
      "execution_count": null,
      "metadata": {
        "id": "mJLzBkSIKoMx"
      },
      "outputs": [],
      "source": [
        "EMBEDDING_DIM = 128\n",
        "BUFFER_SIZE = 10000\n",
        "BATCH_SIZE = 512\n",
        "EPOCHS = 5"
      ]
    },
    {
      "cell_type": "markdown",
      "metadata": {
        "id": "0oO7N0ZsLofI"
      },
      "source": [
        "### Preparing TensorFlow Dataset using Skipgrams\n",
        "\n",
        "**Generating Skipgrams**\n",
        "\n",
        "Tokenize your preprocessed textual data and convert the words into their corresponding vectorized tokens. Then, use the `skipgrams` function provided by Keras to generate (word, context) pairs. Ensure the following steps are completed:\n",
        "\n",
        "- Generate positive samples: (word, word in the same window), with label 1.  \n",
        "- Generate negative samples: (word, random word from the vocabulary), with label 0.  \n",
        "\n",
        "Refer to Mikolov et al.'s paper, [Efficient Estimation of Word Representations in Vector Space](https://arxiv.org/pdf/1301.3781v3.pdf), for more details on Skipgrams.\n",
        "\n",
        "---\n",
        "\n",
        "**Negative Sampling**\n",
        "\n",
        "For each input word, implement the negative sampling approach to optimize the training process. Transform the problem of predicting context words into independent binary classification tasks. For every (target, context) pair, generate random negative (target, ~context) samples. This step will reduce computational complexity and make training more efficient.\n"
      ]
    },
    {
      "cell_type": "code",
      "execution_count": null,
      "metadata": {
        "id": "Uq4-jfYOjonO"
      },
      "outputs": [],
      "source": [
        "# Step 1: Initialize and fit the tokenizer on preprocessed words\n",
        "# Tokenize the preprocessed words and create a vocabulary index\n",
        "tokenizer = Tokenizer()\n",
        "tokenizer.fit_on_texts(subsampled_words)\n",
        "word_index = tokenizer.word_index\n",
        "vocab_size = len(word_index) + 1\n",
        "\n",
        "# Step 2: Vectorize the words using the tokenizer's word index\n",
        "# Convert the preprocessed words into vectorized tokens\n",
        "vect = tokenizer.texts_to_sequences([subsampled_words])[0]\n",
        "\n",
        "# Step 3: Generate skipgram pairs and labels\n",
        "# Use the skipgrams function to create (word, context) pairs with their labels\n",
        "pairs, labels = skipgrams(sequence=vect, vocabulary_size=vocab_size, window_size=3, negative_samples=0.1)\n",
        "\n",
        "# Step 4: Extract target and context words from the generated pairs\n",
        "# Separate the target words and context words for training\n",
        "targets, contexts = zip(*pairs)\n",
        "\n",
        "# Step 5: Split the data into training and testing sets\n",
        "# Define a sample size and divide the data into training and testing subsets\n",
        "train_targets, test_targets, train_contexts, test_contexts, train_labels, test_labels = train_test_split(\n",
        "    np.array(targets, dtype=\"int32\"), np.array(contexts, dtype=\"int32\"), np.array(labels, dtype=\"int32\"), test_size=0.2, random_state=42)\n",
        "\n",
        "# Step 6: Create TensorFlow datasets\n",
        "# Prepare TensorFlow datasets for training and testing with appropriate batching and shuffling\n",
        "train_dataset = tf.data.Dataset.from_tensor_slices(((train_targets, train_contexts), train_labels))\n",
        "train_dataset = train_dataset.shuffle(BUFFER_SIZE).batch(BATCH_SIZE, drop_remainder=True)\n",
        "test_dataset = tf.data.Dataset.from_tensor_slices(((test_targets, test_contexts), test_labels))\n",
        "test_dataset = test_dataset.batch(BATCH_SIZE, drop_remainder=True)"
      ]
    },
    {
      "cell_type": "code",
      "execution_count": null,
      "metadata": {
        "colab": {
          "base_uri": "https://localhost:8080/"
        },
        "id": "JRHxw7X4zOpg",
        "outputId": "26613868-2c26-4600-af25-779c2088e5d0"
      },
      "outputs": [
        {
          "name": "stdout",
          "output_type": "stream",
          "text": [
            "# (train, test) batches: 39625, 9906\n"
          ]
        }
      ],
      "source": [
        "# Print the number of batches in the training and testing datasets\n",
        "print(f\"# (train, test) batches: {len(list(train_dataset))}, {len(list(test_dataset))}\")"
      ]
    },
    {
      "cell_type": "markdown",
      "metadata": {
        "id": "VUatOx50OXF1"
      },
      "source": [
        "### Building the Model\n",
        "\n",
        "Use the model subclassing method to build your model. While Sequential and Functional APIs are generally more suitable for most use cases, model subclassing allows you to create the model in an object-oriented way. Follow these steps:\n",
        "\n",
        "1. Define a custom model class by inheriting from `tf.keras.Model`.\n",
        "2. Implement the `__init__` method to define the layers of your model.\n",
        "3. Override the `call` method to define the forward pass of your model.\n",
        "4. Ensure that the model includes embedding layers, a skip-gram architecture, and any other necessary components for training.\n"
      ]
    },
    {
      "cell_type": "code",
      "execution_count": null,
      "metadata": {
        "id": "6gLxFZ9Eu9Tw"
      },
      "outputs": [],
      "source": [
        "# Step 1: Create a custom model class by subclassing `tf.keras.Model`\n",
        "# Define a class that inherits from the Keras Model class\n",
        "class SkipgramModel(tf.keras.Model):\n",
        "\n",
        "  # Step 2: Initialize the layers in the `__init__` method\n",
        "  # Define all the layers such as embedding, dense, or output layers\n",
        "  def __init__(self, vocab_size, embedding_dim):\n",
        "    super(SkipgramModel, self).__init__()\n",
        "    self.embedding = tf.keras.layers.Embedding(input_dim=vocab_size,\n",
        "                                               output_dim=embedding_dim, embeddings_initializer=\"uniform\")\n",
        "    self.dense = tf.keras.layers.Dense(units=1, activation=\"sigmoid\")\n",
        "\n",
        "  # Step 3: Implement the forward pass in the `call` method\n",
        "  # Define how the input data flows through the model to produce the output\n",
        "  def call(self, inputs):\n",
        "    target, context = inputs\n",
        "    target_embedding = self.embedding(target)\n",
        "    context_embedding = self.embedding(context)\n",
        "\n",
        "    dot_product = tf.expand_dims(tf.reduce_sum(target_embedding * context_embedding, axis=-1), axis=-1)\n",
        "    output = self.dense(dot_product)\n",
        "    return output\n",
        "\n",
        "# Step 4: Ensure the model implements the skip-gram architecture\n",
        "# Include logic for embedding lookups and processing positive and negative samples\n",
        "model = SkipgramModel(vocab_size, EMBEDDING_DIM)"
      ]
    },
    {
      "cell_type": "markdown",
      "metadata": {
        "id": "RN3SV3zv0pXG"
      },
      "source": [
        "### Loss function, Metrics and Optimizers"
      ]
    },
    {
      "cell_type": "code",
      "execution_count": null,
      "metadata": {
        "id": "ENLrMWOtpixA"
      },
      "outputs": [],
      "source": [
        "optimizer = tf.keras.optimizers.Adam(learning_rate=0.001)\n",
        "loss_fn = tf.keras.losses.BinaryCrossentropy()\n",
        "train_acc_metric = tf.keras.metrics.BinaryAccuracy(name=\"train_acc\")\n",
        "val_acc_metric = tf.keras.metrics.BinaryAccuracy(name=\"val_acc\")"
      ]
    },
    {
      "cell_type": "markdown",
      "metadata": {
        "id": "7eyQ_o1EWuJA"
      },
      "source": [
        "### Training the Model\n",
        "\n",
        "Implement custom training for learning word embeddings to gain finer control over optimization and training tasks. Follow these steps:\n",
        "\n",
        "1. Define a custom training loop that includes forward propagation, loss computation, and backpropagation.\n",
        "2. Use the optimizer of your choice to update the model's weights based on the computed gradients.\n",
        "3. Implement batching for efficient data processing during training.\n",
        "4. Monitor the loss during each epoch to track the model's performance.\n",
        "5. Save the trained embeddings for later use once the training is complete."
      ]
    },
    {
      "cell_type": "code",
      "execution_count": null,
      "metadata": {
        "colab": {
          "base_uri": "https://localhost:8080/"
        },
        "id": "_rNfG-X1OmUB",
        "outputId": "6d2fb814-9aa1-415c-eaec-c997598d846c"
      },
      "outputs": [
        {
          "name": "stdout",
          "output_type": "stream",
          "text": [
            "Starting epoch: 0\n"
          ]
        },
        {
          "name": "stderr",
          "output_type": "stream",
          "text": [
            "39625it [27:21, 24.15it/s]\n"
          ]
        },
        {
          "name": "stdout",
          "output_type": "stream",
          "text": [
            "Training acc over epoch: 0.9089\n",
            "Cummulative loss: 12404.3680\n",
            "Validation acc over epoch: 0.9092\n",
            "Cummulative test loss:: 3011.5676\n",
            "Time taken: 1783.83\n",
            "Starting epoch: 1\n"
          ]
        },
        {
          "name": "stderr",
          "output_type": "stream",
          "text": [
            "39625it [26:22, 25.05it/s]\n"
          ]
        },
        {
          "name": "stdout",
          "output_type": "stream",
          "text": [
            "Training acc over epoch: 0.9034\n",
            "Cummulative loss: 11335.9030\n",
            "Validation acc over epoch: 0.9036\n",
            "Cummulative test loss:: 3160.3833\n",
            "Time taken: 1760.63\n",
            "Starting epoch: 2\n"
          ]
        },
        {
          "name": "stderr",
          "output_type": "stream",
          "text": [
            "39625it [25:31, 25.88it/s]\n"
          ]
        },
        {
          "name": "stdout",
          "output_type": "stream",
          "text": [
            "Training acc over epoch: 0.9117\n",
            "Cummulative loss: 10126.5945\n",
            "Validation acc over epoch: 0.9016\n",
            "Cummulative test loss:: 3412.1680\n",
            "Time taken: 1673.01\n",
            "Starting epoch: 3\n"
          ]
        },
        {
          "name": "stderr",
          "output_type": "stream",
          "text": [
            "39625it [25:53, 25.51it/s]\n"
          ]
        },
        {
          "name": "stdout",
          "output_type": "stream",
          "text": [
            "Training acc over epoch: 0.9214\n",
            "Cummulative loss: 9342.2218\n",
            "Validation acc over epoch: 0.9013\n",
            "Cummulative test loss:: 3563.3867\n",
            "Time taken: 1699.72\n",
            "Starting epoch: 4\n"
          ]
        },
        {
          "name": "stderr",
          "output_type": "stream",
          "text": [
            "39625it [25:19, 26.07it/s]\n"
          ]
        },
        {
          "name": "stdout",
          "output_type": "stream",
          "text": [
            "Training acc over epoch: 0.9271\n",
            "Cummulative loss: 8843.2618\n",
            "Validation acc over epoch: 0.9012\n",
            "Cummulative test loss:: 3675.8027\n",
            "Time taken: 1638.56\n"
          ]
        }
      ],
      "source": [
        "# Step 1: Define the training step\n",
        "# Create a `train_step` function using `tf.GradientTape` to compute predictions, calculate loss, and apply gradients to update model weights\n",
        "def train_step(model, target, context, labels, loss_fn, optimizer, train_acc_metric):\n",
        "    with tf.GradientTape() as tape:\n",
        "        predictions = model((target, context), training=True)\n",
        "        loss = loss_fn(labels, predictions)\n",
        "\n",
        "    gradients = tape.gradient(loss, model.trainable_variables)\n",
        "    optimizer.apply_gradients(zip(gradients, model.trainable_variables))\n",
        "\n",
        "    train_acc_metric.update_state(labels, predictions)\n",
        "    return loss\n",
        "\n",
        "# Step 2: Define the testing step\n",
        "# Create a `test_step` function to compute predictions and calculate validation loss without updating the model weights\n",
        "def test_step(model, target, context, labels, loss_fn, val_acc_metric):\n",
        "    predictions = model((target, context), training=False)\n",
        "    loss = loss_fn(labels, predictions)\n",
        "    val_acc_metric.update_state(labels, predictions)\n",
        "    return loss\n",
        "\n",
        "# Step 3: Initialize the training loop\n",
        "# Set up a loop to iterate over epochs and train the model for the defined number of iterations\n",
        "for epoch in range(EPOCHS):\n",
        "    print(f\"Starting epoch: {epoch}\")\n",
        "    start_time = time.time()\n",
        "\n",
        "    train_acc_metric.reset_state()\n",
        "    val_acc_metric.reset_state()\n",
        "\n",
        "    # Step 4: Perform training on each batch\n",
        "    # For each batch in the training dataset, call the `train_step` function and accumulate the loss\n",
        "    epoch_train_loss = 0.0\n",
        "    for step, ((targets, contexts), labels) in tqdm(enumerate(train_dataset)):\n",
        "        loss = train_step(model, targets, contexts, labels, loss_fn, optimizer, train_acc_metric)\n",
        "        epoch_train_loss += loss.numpy()\n",
        "\n",
        "\n",
        "    # Step 5: Compute and display training accuracy\n",
        "    # Update and reset training accuracy metrics after each epoch and log the results\n",
        "    train_acc = train_acc_metric.result()\n",
        "    print(f\"Training acc over epoch: {train_acc:.4f}\")\n",
        "    print(f\"Cummulative loss: {epoch_train_loss:.4f}\")\n",
        "\n",
        "    # Step 6: Perform validation on the test dataset\n",
        "    # For each batch in the test dataset, call the `test_step` function to calculate validation loss and accuracy\n",
        "    epoch_val_loss = 0\n",
        "    for  step, ((targets, contexts), labels) in enumerate(test_dataset):\n",
        "        batch_loss = test_step(model, targets, contexts, labels, loss_fn, val_acc_metric)\n",
        "        epoch_val_loss += batch_loss\n",
        "\n",
        "    # Step 7: Log validation metrics\n",
        "    # Compute and log validation accuracy and cumulative test loss for each epoch\n",
        "    val_acc = val_acc_metric.result()\n",
        "    print(f\"Validation acc over epoch: {val_acc:.4f}\")\n",
        "    print(f\"Cummulative test loss:: {epoch_val_loss:.4f}\")\n",
        "\n",
        "    # Step 8: Track time per epoch\n",
        "    # Record and display the time taken to complete each epoch for performance monitoring\n",
        "    end_time = time.time()\n",
        "    print(f\"Time taken: {end_time - start_time:.2f}\")"
      ]
    },
    {
      "cell_type": "code",
      "execution_count": null,
      "metadata": {
        "colab": {
          "base_uri": "https://localhost:8080/"
        },
        "id": "V2iWMNGQahsc",
        "outputId": "af3455e9-754c-40b9-8663-7e429d42942f"
      },
      "outputs": [
        {
          "name": "stdout",
          "output_type": "stream",
          "text": [
            "Model weights saved to ./checkpoints/ckpt\n"
          ]
        }
      ],
      "source": [
        "# Save weights to a Tensorflow Checkpoint file\n",
        "checkpoint_dir = \"./checkpoints\"\n",
        "checkpoint_prefix = f\"{checkpoint_dir}/ckpt\"\n",
        "\n",
        "checkpoint = tf.train.Checkpoint(optimizer=optimizer, model=model)\n",
        "checkpoint.save(file_prefix=checkpoint_prefix)\n",
        "print(f\"Model weights saved to {checkpoint_prefix}\")"
      ]
    },
    {
      "cell_type": "markdown",
      "metadata": {
        "id": "bb7Wx_rzZOOm"
      },
      "source": [
        "### Word Embeddings Projector\n",
        "\n",
        "Follow these steps to visualize the learned word embeddings using TensorFlow's Embedding Projector:\n",
        "\n",
        "1. Extract the weights of the embedding layer from your trained model.\n",
        "2. Save the weights into two files:\n",
        "   - `vecs.tsv`: This file will store the actual vector representations of words.\n",
        "   - `meta.tsv`: This file will store the associated metadata (e.g., word labels) for visualization.\n",
        "3. Go to [TensorFlow Embedding Projector](http://projector.tensorflow.org/).\n",
        "4. Upload the `vecs.tsv` and `meta.tsv` files created in the previous step.\n",
        "5. Explore the visualizations provided by TensorFlow's Embedding Projector.\n",
        "<font color=#ffb578>\n",
        "6.Save the visualization of a word that best demonstrate the quality of your embeddings as an image and store it near the notebook.\n",
        "7. Compress the folder into a `.zip` file and submit it as part of your work.\n",
        "\n",
        "</font>\n"
      ]
    },
    {
      "cell_type": "code",
      "execution_count": null,
      "metadata": {
        "colab": {
          "base_uri": "https://localhost:8080/"
        },
        "id": "fGpXtNRS-V_u",
        "outputId": "0c41b0cf-1156-49c6-d73f-f54b4f4304f2"
      },
      "outputs": [
        {
          "name": "stdout",
          "output_type": "stream",
          "text": [
            "Word Embeddings shape: (71141, 128)\n"
          ]
        }
      ],
      "source": [
        "# Step 1: Access the embedding layer from the trained model\n",
        "# Retrieve the first layer (embedding layer) from the model\n",
        "embedding_layer = model.embedding\n",
        "\n",
        "# Step 2: Extract the weights from the embedding layer\n",
        "# Get the weights (word embeddings) as a NumPy\n",
        "embedding_weights = embedding_layer.get_weights()[0]\n",
        "print(f\"Word Embeddings shape: {embedding_weights.shape}\")\n",
        "\n",
        "# Step 3: Open files to store embeddings and metadata\n",
        "# Create two files - 'vecs.tsv' for embeddings and 'meta.tsv' for word metadata\n",
        "with open('vecs.tsv', \"w\") as vecs, open('meta.tsv', \"w\") as meta:\n",
        "    # Step 4: Iterate through the tokenizer's vocabulary\n",
        "    # For each word in the vocabulary, write its metadata and embeddings to the files\n",
        "    for word, index in tokenizer.word_index.items():\n",
        "        if index < vocab_size:\n",
        "            meta.write(word + \"\\n\")\n",
        "            embedding_vector = embedding_weights[index]\n",
        "            vecs.write(\"\\t\".join([str(x) for x in embedding_vector]) + \"\\n\")"
      ]
    }
  ],
  "metadata": {
    "accelerator": "GPU",
    "colab": {
      "gpuType": "T4",
      "provenance": []
    },
    "kernelspec": {
      "display_name": "Python 3",
      "name": "python3"
    },
    "language_info": {
      "codemirror_mode": {
        "name": "ipython",
        "version": 3
      },
      "file_extension": ".py",
      "mimetype": "text/x-python",
      "name": "python",
      "nbconvert_exporter": "python",
      "pygments_lexer": "ipython3",
      "version": "3.7.6"
    },
    "papermill": {
      "duration": 1467.163823,
      "end_time": "2020-10-10T13:37:04.319726",
      "environment_variables": {},
      "exception": null,
      "input_path": "__notebook__.ipynb",
      "output_path": "__notebook__.ipynb",
      "parameters": {},
      "start_time": "2020-10-10T13:12:37.155903",
      "version": "2.1.0"
    }
  },
  "nbformat": 4,
  "nbformat_minor": 0
}
